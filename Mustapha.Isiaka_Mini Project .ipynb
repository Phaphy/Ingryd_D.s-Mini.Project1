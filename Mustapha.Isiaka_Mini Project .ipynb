{
 "cells": [
  {
   "cell_type": "markdown",
   "id": "5554cce6",
   "metadata": {},
   "source": [
    "#### Week One Project Sentiment Analysis\n"
   ]
  },
  {
   "cell_type": "code",
   "execution_count": null,
   "id": "68535eda",
   "metadata": {},
   "outputs": [],
   "source": [
    "# Write a program that takes user input as text and counts the occurrence of negative words \n",
    "#such as \"bad,\" \"not good,\" and \"poor\" in the text. \n",
    "\n",
    "\n",
    "#Calculate the percentage of negative words by dividing the count of negative words \n",
    "#by the total number of words in the text. If the percentage of negative words is \n",
    "#above a certain threshold (e.g., 5%), mark the feedback as negative; otherwise, mark \n",
    "#it as positive.\n"
   ]
  },
  {
   "cell_type": "code",
   "execution_count": 47,
   "id": "a4e8ba5e",
   "metadata": {},
   "outputs": [
    {
     "name": "stdout",
     "output_type": "stream",
     "text": [
      "feedback : I called the customer care because I had issues setting up the device but in all honesty the response time was poor, the agent has bad manners and I think this is not good for the business.\n",
      "{'total_words': 37, 'negative_words': 3}\n",
      "percentage -->  8.1081 %\n"
     ]
    }
   ],
   "source": [
    "customers_feedback = input(\"feedback : \")\n",
    "words = {\"total_words\":0, \"negative_words\":0,}\n",
    "negative_words = [\"bad\",\"not good\",\"poor\"]\n",
    "for c in negative_words:\n",
    "    if c[0] in customers_feedback:\n",
    "        words[\"negative_words\"]+=1\n",
    "        \n",
    "customers_feedback = customers_feedback.split()       \n",
    "for n in customers_feedback:\n",
    "    if n[0].isalpha():\n",
    "        words[\"total_words\"]+=1\n",
    "        \n",
    "print(words)\n",
    "print(\"percentage --> \", round((words[\"negative_words\"]/words[\"total_words\"])*100,4),\"%\")"
   ]
  },
  {
   "cell_type": "code",
   "execution_count": null,
   "id": "60794daf",
   "metadata": {},
   "outputs": [],
   "source": [
    "customers_feedback = input(\"feedback : \").split()\n",
    "words = {\"total_words\":0, \"negative_words\":0,}\n",
    "negative_words = [\"bad\",\"not good\",\"poor\"]\n",
    "for i in customers_feedback:\n",
    "    if i[0] in negative_words:\n",
    "        words(\"negative_words\")+=1\n",
    "if i[0].isalpha():\n",
    "    words(\"total_words\")+=1\n",
    "print(words)\n",
    "print(\"percentage --> \", round((words[\"negative_words\"]/words[\"total_words\"])*100,4),\"%\")"
   ]
  }
 ],
 "metadata": {
  "kernelspec": {
   "display_name": "Python 3 (ipykernel)",
   "language": "python",
   "name": "python3"
  },
  "language_info": {
   "codemirror_mode": {
    "name": "ipython",
    "version": 3
   },
   "file_extension": ".py",
   "mimetype": "text/x-python",
   "name": "python",
   "nbconvert_exporter": "python",
   "pygments_lexer": "ipython3",
   "version": "3.11.3"
  }
 },
 "nbformat": 4,
 "nbformat_minor": 5
}
